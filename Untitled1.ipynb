{
 "cells": [
  {
   "cell_type": "code",
   "execution_count": 7,
   "id": "6bc003e7-9716-48ab-ae4c-599efd1e2d15",
   "metadata": {},
   "outputs": [
    {
     "name": "stdout",
     "output_type": "stream",
     "text": [
      "> 2025-04-11 04:45:46,275 [info] saving iris dataset to s3://mlrun/projects/default/artifacts\n"
     ]
    }
   ],
   "source": [
    "import mlrun\n",
    "from sklearn.datasets import load_breast_cancer\n",
    "import pandas as pd\n",
    "\n",
    "@mlrun.handler(outputs=[\"dataset\", \"label_column\"])\n",
    "def dataset_loader(context, format=\"csv\"):\n",
    "\n",
    "    iris = load_breast_cancer(as_frame=True)\n",
    "    iris_dataset = iris.frame\n",
    "    iris_dataset['target'] = iris.target\n",
    "    \n",
    "    context.logger.info('saving iris dataset to {}'.format(context.artifact_path))\n",
    "    context.log_dataset('iris_dataset', df=iris_dataset, format=format, index=False)\n",
    "    \n",
    "    return iris_dataset, \"target\"\n",
    "\n",
    "if __name__ == \"__main__\":\n",
    "    with mlrun.get_or_create_ctx(\"iris_generator\", upload_artifacts=True) as context:\n",
    "        dataset_loader(context, context.get_param(\"format\", \"csv\"))\n",
    "\n"
   ]
  },
  {
   "cell_type": "code",
   "execution_count": 3,
   "id": "c941ecf2-89a1-41ec-9a75-b7f43c98a16d",
   "metadata": {},
   "outputs": [],
   "source": [
    "import mlrun\n",
    "from sklearn import ensemble\n",
    "from sklearn.model_selection import train_test_split\n",
    "from mlrun.frameworks.sklearn import apply_mlrun\n",
    "\n",
    "def train(\n",
    "    dataset: mlrun.DataItem,\n",
    "    label_column: str = 'target',\n",
    "    n_estimators: int = 100,\n",
    "    learning_rate: float = 0.1,\n",
    "    max_depth: int = 3,\n",
    "    model_name: str = \"dataset_classifier\"\n",
    "):\n",
    "    \n",
    "    df = dataset.as_df()\n",
    "    X = df.drop(label_column, axis =1)\n",
    "    y = df[label_column]\n",
    "    \n",
    "    #train test split\n",
    "    \n",
    "    X_train, X_test, y_train, y_test = train_test_split(X, y, test_size=0.2, random_state=42)\n",
    "    \n",
    "    # Pick Model\n",
    "    model = ensemble.GradientBoostingClassifier(\n",
    "        n_estimators=n_estimators, learning_rate=learning_rate, max_depth=max_depth)\n",
    "    \n",
    "    apply_mlrun(model=model, model_name=model_name, x_test=X_test, y_test=y_test)\n",
    "    \n",
    "    model.fit(X_train, y_train)"
   ]
  },
  {
   "cell_type": "code",
   "execution_count": 4,
   "id": "8ca664ed-eaec-4489-bc40-e6e01d79ead4",
   "metadata": {},
   "outputs": [],
   "source": [
    "from cloudpickle import load\n",
    "import numpy as np\n",
    "from typing import List\n",
    "import mlrun\n",
    "\n",
    "class ClassifierModel(mlrun.serving.V2ModelServer):\n",
    "    def load(self):\n",
    "\n",
    "        model_file, extra_data = self.get_model('.pkl')\n",
    "        self.model = load(open(model_file, 'rb'))\n",
    "        \n",
    "    def predict(self, body: dict) -> List:\n",
    "\n",
    "        feats = np.asarray(body['inputs'])\n",
    "        results: np.ndarray = self.model.predict(feats)\n",
    "        return results.tolist()"
   ]
  },
  {
   "cell_type": "code",
   "execution_count": 6,
   "id": "5cbf9808-46e8-44f9-8d14-221cad2a3559",
   "metadata": {},
   "outputs": [],
   "source": [
    "import mlrun\n",
    "from kfp import dsl\n",
    "\n",
    "@dsl.pipeline(name=\"iris-demo\")\n",
    "def pipeline(model_name=\"dataset_classifier\"):\n",
    "    \n",
    "    ingest = mlrun.run_function(\n",
    "        \"load-iris-data\",\n",
    "        name=\"load-iris-data\",\n",
    "        params={\"format\": \"pq\", \"model_name\": model_name},\n",
    "        outputs=[\"dataset\"],\n",
    "    )\n",
    "    \n",
    "    train = mlrun.run_function(\n",
    "        \"trainer\",\n",
    "        inputs={\"dataset\": ingest.outputs[\"dataset\"]},\n",
    "        hyperparams={\n",
    "        \"n_estimators\": [10, 100],\n",
    "            \"learning_rate\": [1e-1, 1e-3],\n",
    "            \"max_depth\": [2, 8]\n",
    "        },\n",
    "        selector=\"max.accuracy\",\n",
    "        outputs=[\"model\"],\n",
    "    )\n",
    "    \n",
    "    deploy = mlrun.deploy_function(\n",
    "        \"serving\",\n",
    "        models=[{\"key\": model_name, \"model_path\": train.outputs[\"model\"], \"class_name\": \"ClassifierModel\"}],\n",
    "        mock=True\n",
    "    )"
   ]
  },
  {
   "cell_type": "code",
   "execution_count": null,
   "id": "5d694c03-a302-49b7-8582-deee2d05bbc6",
   "metadata": {},
   "outputs": [],
   "source": []
  },
  {
   "cell_type": "code",
   "execution_count": null,
   "id": "34fdef07-822a-4a7a-b365-f5db75d15087",
   "metadata": {},
   "outputs": [],
   "source": []
  },
  {
   "cell_type": "code",
   "execution_count": null,
   "id": "90df117b-cfe6-4c13-91ba-387a1fe26768",
   "metadata": {},
   "outputs": [],
   "source": []
  }
 ],
 "metadata": {
  "kernelspec": {
   "display_name": "Python 3 (ipykernel)",
   "language": "python",
   "name": "python3"
  },
  "language_info": {
   "codemirror_mode": {
    "name": "ipython",
    "version": 3
   },
   "file_extension": ".py",
   "mimetype": "text/x-python",
   "name": "python",
   "nbconvert_exporter": "python",
   "pygments_lexer": "ipython3",
   "version": "3.9.13"
  }
 },
 "nbformat": 4,
 "nbformat_minor": 5
}
